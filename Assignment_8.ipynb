{
 "cells": [
  {
   "cell_type": "code",
   "execution_count": 12,
   "id": "6841e8e0",
   "metadata": {},
   "outputs": [
    {
     "name": "stdout",
     "output_type": "stream",
     "text": [
      "1st metrice\n",
      " [[1 2 3]\n",
      " [4 5 6]]\n",
      "2nd metrice\n",
      " [[1 2 3]\n",
      " [4 5 6]]\n"
     ]
    },
    {
     "data": {
      "text/plain": [
       "array([[ 2,  4,  6],\n",
       "       [ 8, 10, 12]])"
      ]
     },
     "execution_count": 12,
     "metadata": {},
     "output_type": "execute_result"
    }
   ],
   "source": [
    "#1\n",
    "import numpy as np\n",
    "a=[[1,2,3],[4,5,6]]\n",
    "b=[[1,2,3],[4,5,6]]\n",
    "a1=np.array(a)\n",
    "b1=np.array(b)\n",
    "print(\"1st metrice\\n\",a1)\n",
    "print(\"2nd metrice\\n\",b1)\n",
    "a1+b1"
   ]
  },
  {
   "cell_type": "code",
   "execution_count": 15,
   "id": "e42a541e",
   "metadata": {},
   "outputs": [
    {
     "name": "stdout",
     "output_type": "stream",
     "text": [
      "1st metrice\n",
      " [[1 2 3]\n",
      " [4 5 6]]\n",
      "2nd metrice\n",
      " [[1 2 3]\n",
      " [4 5 6]]\n"
     ]
    },
    {
     "data": {
      "text/plain": [
       "array([[ 1,  4,  9],\n",
       "       [16, 25, 36]])"
      ]
     },
     "execution_count": 15,
     "metadata": {},
     "output_type": "execute_result"
    }
   ],
   "source": [
    "#2\n",
    "a1=np.array(a)\n",
    "b1=np.array(b)\n",
    "print(\"1st metrice\\n\",a1)\n",
    "print(\"2nd metrice\\n\",b1)\n",
    "a1*b1"
   ]
  },
  {
   "cell_type": "code",
   "execution_count": 37,
   "id": "88477334",
   "metadata": {},
   "outputs": [
    {
     "name": "stdout",
     "output_type": "stream",
     "text": [
      "Transposed value is\n",
      " [[1 4]\n",
      " [2 5]\n",
      " [3 6]]\n"
     ]
    }
   ],
   "source": [
    "#3\n",
    "a2=np.transpose(a1)\n",
    "print(\"Transposed value is\\n\",a2)"
   ]
  },
  {
   "cell_type": "code",
   "execution_count": 38,
   "id": "c1ae6c96",
   "metadata": {},
   "outputs": [
    {
     "name": "stdout",
     "output_type": "stream",
     "text": [
      "Sorted value is \n",
      " ['a', 'a', 'b', 'c', 'd', 'e', 'i', 'o', 'w', 'y']\n"
     ]
    }
   ],
   "source": [
    "#4\n",
    "\n",
    "s=['a','b','e','y','d','c','w','i','o','a']\n",
    "s.sort()\n",
    "print(\"Sorted value is \\n\",s)"
   ]
  },
  {
   "cell_type": "code",
   "execution_count": 55,
   "id": "d3f86bf4",
   "metadata": {},
   "outputs": [
    {
     "name": "stdout",
     "output_type": "stream",
     "text": [
      "Enter the string asddsa@dsfsd!./;'[]ppooo\n"
     ]
    },
    {
     "data": {
      "text/plain": [
       "'asddsadsfsdppooo'"
      ]
     },
     "execution_count": 55,
     "metadata": {},
     "output_type": "execute_result"
    }
   ],
   "source": [
    "#5\n",
    "\n",
    "a=input(\"Enter the string \")\n",
    "p='''''!()-[]{};:'\"\\,<>./?@#$%^&*_~'''\n",
    "a1=\"\"\n",
    "for i in a:\n",
    "    if i not in p:\n",
    "        a1=a1+i\n",
    "a1"
   ]
  },
  {
   "cell_type": "code",
   "execution_count": null,
   "id": "bece22e2",
   "metadata": {},
   "outputs": [],
   "source": []
  }
 ],
 "metadata": {
  "kernelspec": {
   "display_name": "Python 3 (ipykernel)",
   "language": "python",
   "name": "python3"
  },
  "language_info": {
   "codemirror_mode": {
    "name": "ipython",
    "version": 3
   },
   "file_extension": ".py",
   "mimetype": "text/x-python",
   "name": "python",
   "nbconvert_exporter": "python",
   "pygments_lexer": "ipython3",
   "version": "3.9.7"
  }
 },
 "nbformat": 4,
 "nbformat_minor": 5
}
