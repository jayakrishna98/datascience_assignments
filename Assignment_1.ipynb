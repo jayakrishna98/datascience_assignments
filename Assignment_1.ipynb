{
 "cells": [
  {
   "cell_type": "code",
   "execution_count": 4,
   "id": "5fb4c276",
   "metadata": {},
   "outputs": [],
   "source": [
    "def check_score(l):\n",
    "    \n",
    "    b=[]\n",
    "    for i in l:\n",
    "        if type(l[0]) is str:\n",
    "            if i==\"#\":\n",
    "                a=5\n",
    "                b.append(a)\n",
    "    \n",
    "            if i==\"O\":\n",
    "                a=3\n",
    "                b.append(a)\n",
    "                \n",
    "            if i==\"X\":\n",
    "                a=1\n",
    "                b.append(a)\n",
    "                \n",
    "            if i==\"!\":\n",
    "                a=-1\n",
    "                b.append(a)\n",
    "                \n",
    "            if i==\"!!\":\n",
    "                a=-3\n",
    "                b.append(a)\n",
    "                \n",
    "            if i==\"!!!\":\n",
    "                a=-5\n",
    "                b.append(a)\n",
    "        else:\n",
    "            for j in i:\n",
    "                if j==\"#\":\n",
    "                    a=5\n",
    "                    b.append(a)\n",
    "\n",
    "                if j==\"O\":\n",
    "                    a=3\n",
    "                    b.append(a)\n",
    "\n",
    "                if j==\"X\":\n",
    "                    a=1\n",
    "                    b.append(a)\n",
    "\n",
    "                if j==\"!\":\n",
    "                    a=-1\n",
    "                    b.append(a)\n",
    "\n",
    "                if j==\"!!\":\n",
    "                    a=-3\n",
    "                    b.append(a)\n",
    "\n",
    "                if j==\"!!!\":\n",
    "                    a=-5\n",
    "                    b.append(a)\n",
    "        \n",
    "    return sum(b)\n",
    "\n",
    "        \n",
    "\n",
    "    "
   ]
  },
  {
   "cell_type": "code",
   "execution_count": 11,
   "id": "71c92294",
   "metadata": {},
   "outputs": [
    {
     "data": {
      "text/plain": [
       "8"
      ]
     },
     "execution_count": 11,
     "metadata": {},
     "output_type": "execute_result"
    }
   ],
   "source": [
    "d=[\"#\",\"#\",\"!!!\",\"O\"]\n",
    "check_score(d)"
   ]
  },
  {
   "cell_type": "code",
   "execution_count": 12,
   "id": "ac397ded",
   "metadata": {},
   "outputs": [
    {
     "data": {
      "text/plain": [
       "2"
      ]
     },
     "execution_count": 12,
     "metadata": {},
     "output_type": "execute_result"
    }
   ],
   "source": [
    "s=[[\"#\",\"!\"],[\"!!\",\"X\"]]\n",
    "check_score(s)"
   ]
  },
  {
   "cell_type": "code",
   "execution_count": 109,
   "id": "d616c21b",
   "metadata": {},
   "outputs": [],
   "source": [
    "def combinations(*args):\n",
    "    a=1\n",
    "    print(\"number of permutations (combinations) of items that you could get by taking one item from each group is equal to multiplication of all items\")\n",
    "    #nP1=n\n",
    "    for i in args:\n",
    "        a=a*i \n",
    "    return a\n"
   ]
  },
  {
   "cell_type": "code",
   "execution_count": 110,
   "id": "44f171f0",
   "metadata": {},
   "outputs": [
    {
     "name": "stdout",
     "output_type": "stream",
     "text": [
      "number of permutations (combinations) of items that you could get by taking one item from each group is equal to multiplication of all items\n"
     ]
    },
    {
     "data": {
      "text/plain": [
       "84"
      ]
     },
     "execution_count": 110,
     "metadata": {},
     "output_type": "execute_result"
    }
   ],
   "source": [
    "combinations(3,7,4)"
   ]
  },
  {
   "cell_type": "code",
   "execution_count": 27,
   "id": "7a9d4383",
   "metadata": {},
   "outputs": [],
   "source": [
    "char_to_dots = {\n",
    "  'A': '.-', 'B': '-...', 'C': '-.-.', 'D': '-..', 'E': '.', 'F': '..-.',\n",
    "  'G': '--.', 'H': '....', 'I': '..', 'J': '.---', 'K': '-.-', 'L': '.-..',\n",
    "  'M': '--', 'N': '-.', 'O': '---', 'P': '.--.', 'Q': '--.-', 'R': '.-.',\n",
    "  'S': '...', 'T': '-', 'U': '..-', 'V': '...-', 'W': '.--', 'X': '-..-',\n",
    "  'Y': '-.--', 'Z': '--..', ' ': ' ', '0': '-----',\n",
    "  '1': '.----', '2': '..---', '3': '...--', '4': '....-', '5': '.....',\n",
    "  '6': '-....', '7': '--...', '8': '---..', '9': '----.',\n",
    "  '&': '.-...', \"'\": '.----.', '@': '.--.-.', ')': '-.--.-', '(': '-.--.',\n",
    "  ':': '---...', ',': '--..--', '=': '-...-', '!': '-.-.--', '.': '.-.-.-',\n",
    "  '-': '-....-', '+': '.-.-.', '\"': '.-..-.', '?': '..--..', '/': '-..-.'\n",
    "}"
   ]
  },
  {
   "cell_type": "code",
   "execution_count": 77,
   "id": "b932d885",
   "metadata": {},
   "outputs": [],
   "source": [
    "def encode_morse(a):\n",
    "    try:\n",
    "        x=''\n",
    "        for i in a:\n",
    "            c=char_to_dots.get(i)\n",
    "            x=x+c\n",
    "\n",
    "        return x\n",
    "    except:\n",
    "        print(\"Please enter only upper case alphabets\")\n",
    "        "
   ]
  },
  {
   "cell_type": "code",
   "execution_count": 79,
   "id": "de90a5df",
   "metadata": {},
   "outputs": [
    {
     "name": "stdout",
     "output_type": "stream",
     "text": [
      "Enter the StringHELP ME!\n",
      "......-...--. --.-.-.--\n"
     ]
    }
   ],
   "source": [
    "a=input(\"Enter the String \")\n",
    "print(encode_morse(a))"
   ]
  },
  {
   "cell_type": "code",
   "execution_count": 84,
   "id": "eb7edcb4",
   "metadata": {},
   "outputs": [
    {
     "data": {
      "text/plain": [
       "97"
      ]
     },
     "execution_count": 84,
     "metadata": {},
     "output_type": "execute_result"
    }
   ],
   "source": [
    "s=\"aleep\"\n",
    "ord(s[0])"
   ]
  },
  {
   "cell_type": "code",
   "execution_count": 99,
   "id": "4e1e4859",
   "metadata": {},
   "outputs": [],
   "source": [
    "def to_boolean_list(s):\n",
    "    a=\"\"\n",
    "    for i in s:\n",
    "        if ord(i)%2==0:\n",
    "            a=a+\"0\"\n",
    "        else:\n",
    "            a=a+\"1\"\n",
    "    print(\"bitstring value is\",a)\n",
    "    l=[]\n",
    "    for i in a:\n",
    "        if i == '0':\n",
    "            l.append(\"False\")\n",
    "            \n",
    "        else:\n",
    "            l.append(\"True\")\n",
    "            \n",
    "    print(\"Boolean list is\",l)\n",
    "            "
   ]
  },
  {
   "cell_type": "code",
   "execution_count": 101,
   "id": "284534ba",
   "metadata": {},
   "outputs": [
    {
     "name": "stdout",
     "output_type": "stream",
     "text": [
      "Enter the string loves\n",
      "bitstring value is 01011\n",
      "Boolean list is ['False', 'True', 'False', 'True', 'True']\n"
     ]
    }
   ],
   "source": [
    "st=input(\"Enter the string \")\n",
    "to_boolean_list(st)"
   ]
  },
  {
   "cell_type": "code",
   "execution_count": null,
   "id": "7cd0a314",
   "metadata": {},
   "outputs": [],
   "source": []
  }
 ],
 "metadata": {
  "kernelspec": {
   "display_name": "Python 3 (ipykernel)",
   "language": "python",
   "name": "python3"
  },
  "language_info": {
   "codemirror_mode": {
    "name": "ipython",
    "version": 3
   },
   "file_extension": ".py",
   "mimetype": "text/x-python",
   "name": "python",
   "nbconvert_exporter": "python",
   "pygments_lexer": "ipython3",
   "version": "3.9.7"
  }
 },
 "nbformat": 4,
 "nbformat_minor": 5
}
