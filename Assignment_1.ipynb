{
 "cells": [
  {
   "cell_type": "code",
   "execution_count": 2,
   "id": "88f00f3d",
   "metadata": {},
   "outputs": [
    {
     "name": "stdout",
     "output_type": "stream",
     "text": [
      "Hello Python\n"
     ]
    }
   ],
   "source": [
    "print(\"Hello Python\")"
   ]
  },
  {
   "cell_type": "code",
   "execution_count": 14,
   "id": "cba70c7c",
   "metadata": {
    "scrolled": true
   },
   "outputs": [
    {
     "name": "stdout",
     "output_type": "stream",
     "text": [
      "Enter 1st no 5\n",
      "Enter 2nd no 6\n",
      "11\n",
      "0.8333333333333334\n"
     ]
    }
   ],
   "source": [
    "a=int(input(\"Enter 1st no \"))\n",
    "b=int(input(\"Enter 2nd no \"))\n",
    "print(a+b)\n",
    "if(b!=0):\n",
    "    print(a/b)\n",
    "else:\n",
    "    print(\"Denominator cannot be zero for division\")\n"
   ]
  },
  {
   "cell_type": "code",
   "execution_count": 30,
   "id": "cc026801",
   "metadata": {},
   "outputs": [
    {
     "name": "stdout",
     "output_type": "stream",
     "text": [
      "Enter 1st side 5\n",
      "Enter 2nd side 6\n",
      "Enter 3rd side 7\n",
      "area is 14.696938\n"
     ]
    }
   ],
   "source": [
    "a=int(input(\"Enter 1st side \")) \n",
    "b=int(input(\"Enter 2nd side \")) \n",
    "c=int(input(\"Enter 3rd side \"))\n",
    "\n",
    "#calculating semi perimeter \n",
    "s=(a+b+c)/2\n",
    "\n",
    "#calculating area \n",
    "area=(s*(s-a)*(s-b)*(s-c))**0.5\n",
    "\n",
    "print('area is %f' %area)"
   ]
  },
  {
   "cell_type": "code",
   "execution_count": 17,
   "id": "a37aa7b7",
   "metadata": {},
   "outputs": [
    {
     "name": "stdout",
     "output_type": "stream",
     "text": [
      "Enter 1st value 5\n",
      "Enter 2nd value l\n",
      "Swapped value of a is  l\n",
      "Swapped value of b is  5\n"
     ]
    }
   ],
   "source": [
    "a=input(\"Enter 1st value \")\n",
    "b=input(\"Enter 2nd value \")\n",
    "c=a\n",
    "a=b\n",
    "b=c\n",
    "print(\"Swapped value of a is \",a)\n",
    "print(\"Swapped value of b is \",b)"
   ]
  },
  {
   "cell_type": "code",
   "execution_count": 26,
   "id": "33628239",
   "metadata": {},
   "outputs": [
    {
     "name": "stdout",
     "output_type": "stream",
     "text": [
      "Enter value of starting no 100\n",
      "Enter value of final no 1000\n",
      "Values between 100 and 1000 is  131\n"
     ]
    }
   ],
   "source": [
    "import random\n",
    "a=int(input(\"Enter value of starting no \"))\n",
    "b=int(input(\"Enter value of final no \"))\n",
    "\n",
    "print(\"Values between {} and {} is \".format(a,b),random.randint(a,b))"
   ]
  },
  {
   "cell_type": "code",
   "execution_count": null,
   "id": "8f8a40c6",
   "metadata": {},
   "outputs": [],
   "source": []
  }
 ],
 "metadata": {
  "kernelspec": {
   "display_name": "Python 3 (ipykernel)",
   "language": "python",
   "name": "python3"
  },
  "language_info": {
   "codemirror_mode": {
    "name": "ipython",
    "version": 3
   },
   "file_extension": ".py",
   "mimetype": "text/x-python",
   "name": "python",
   "nbconvert_exporter": "python",
   "pygments_lexer": "ipython3",
   "version": "3.9.7"
  }
 },
 "nbformat": 4,
 "nbformat_minor": 5
}
