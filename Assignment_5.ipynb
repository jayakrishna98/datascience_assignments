{
 "cells": [
  {
   "cell_type": "code",
   "execution_count": 6,
   "id": "0054151c",
   "metadata": {},
   "outputs": [
    {
     "name": "stdout",
     "output_type": "stream",
     "text": [
      "Enter the first number 2\n",
      "Enter the second number 3\n",
      "LCM of 2 and 3 is 6\n"
     ]
    }
   ],
   "source": [
    "a=int(input(\"Enter the first number \"))\n",
    "b=int(input(\"Enter the second number \"))\n",
    "\n",
    "if a>b:\n",
    "    greater=a\n",
    "else:\n",
    "    greater=b\n",
    "    \n",
    "while(True):\n",
    "    if(greater%a==0 and greater%b==0):\n",
    "        break\n",
    "    greater = greater+1\n",
    "\n",
    "lcm=greater\n",
    "    \n",
    "print(\"LCM of {} and {} is\".format(a,b),lcm)\n",
    "    "
   ]
  },
  {
   "cell_type": "code",
   "execution_count": 25,
   "id": "9b866297",
   "metadata": {},
   "outputs": [
    {
     "name": "stdout",
     "output_type": "stream",
     "text": [
      "Enter the first number 100\n",
      "Enter the second number 120\n",
      "HCF of 100 and 120 is 20\n"
     ]
    }
   ],
   "source": [
    "a=int(input(\"Enter the first number \"))\n",
    "b=int(input(\"Enter the second number \"))\n",
    "\n",
    "if a<b:\n",
    "    smaller=a\n",
    "else:\n",
    "    smaller=b\n",
    "\n",
    "for i in reversed(range(1,smaller+1)):\n",
    "    if(a%i==0 and b%i==0):\n",
    "        break\n",
    "    \n",
    "print(\"HCF of {} and {} is\".format(a,b),i)"
   ]
  },
  {
   "cell_type": "code",
   "execution_count": 28,
   "id": "da106a3e",
   "metadata": {},
   "outputs": [
    {
     "name": "stdout",
     "output_type": "stream",
     "text": [
      "Enter a decimal value 10\n",
      "The value of 10 is:\n",
      "0b1010 in binary.\n",
      "0o12 in octal.\n",
      "0xa in hexadecimal.\n"
     ]
    }
   ],
   "source": [
    "dec = int(input(\"Enter a decimal value \"))\n",
    "\n",
    "print(\"The value of {}\".format(dec), \"is:\")\n",
    "print(bin(dec), \"in binary.\")\n",
    "print(oct(dec), \"in octal.\")\n",
    "print(hex(dec), \"in hexadecimal.\")"
   ]
  },
  {
   "cell_type": "code",
   "execution_count": 49,
   "id": "56b96ae9",
   "metadata": {},
   "outputs": [
    {
     "name": "stdout",
     "output_type": "stream",
     "text": [
      "Enter any character k\n",
      "The ASCII value of k is 107\n"
     ]
    }
   ],
   "source": [
    "c = input(\"Enter any character \")\n",
    "print(\"The ASCII value of\", c,\"is\", ord(c))"
   ]
  },
  {
   "cell_type": "code",
   "execution_count": 42,
   "id": "20034147",
   "metadata": {},
   "outputs": [
    {
     "name": "stdout",
     "output_type": "stream",
     "text": [
      "Enter 1st number 2\n",
      "Enter 2nd number 3\n",
      "Enter the operation which you want to perform*\n",
      "2 * 3 = 6\n"
     ]
    }
   ],
   "source": [
    "a=int(input(\"Enter 1st number \"))\n",
    "b=int(input(\"Enter 2nd number \"))\n",
    "c=input(\"Enter the operation which you want to perform\")\n",
    "\n",
    "def cal():        \n",
    "    if c==\"+\":\n",
    "            return a+b\n",
    "    \n",
    "    elif c==\"-\":\n",
    "            return a-b\n",
    "    \n",
    "    elif c==\"*\":\n",
    "            return a*b\n",
    "    \n",
    "    elif c==\"/\":\n",
    "            return a/b\n",
    "        \n",
    "    else:\n",
    "        print(\"Enter a valid operator\")\n",
    "    \n",
    "    \n",
    "print(\"{} {} {} =\".format(a,c,b),cal())"
   ]
  },
  {
   "cell_type": "code",
   "execution_count": null,
   "id": "7b27bb19",
   "metadata": {},
   "outputs": [],
   "source": []
  }
 ],
 "metadata": {
  "kernelspec": {
   "display_name": "Python 3 (ipykernel)",
   "language": "python",
   "name": "python3"
  },
  "language_info": {
   "codemirror_mode": {
    "name": "ipython",
    "version": 3
   },
   "file_extension": ".py",
   "mimetype": "text/x-python",
   "name": "python",
   "nbconvert_exporter": "python",
   "pygments_lexer": "ipython3",
   "version": "3.9.7"
  }
 },
 "nbformat": 4,
 "nbformat_minor": 5
}
