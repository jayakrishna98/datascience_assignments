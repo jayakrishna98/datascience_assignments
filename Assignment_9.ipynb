{
 "cells": [
  {
   "cell_type": "code",
   "execution_count": 35,
   "id": "d412c7a2",
   "metadata": {},
   "outputs": [
    {
     "name": "stdout",
     "output_type": "stream",
     "text": [
      "Enter a string 345\n",
      "It is not Disarium number\n"
     ]
    }
   ],
   "source": [
    "#1\n",
    "n=int(input(\"Enter a string \"))\n",
    "\n",
    "def dis(a):\n",
    "    l=len(str(a))\n",
    "    a1=a\n",
    "    b=0\n",
    "    while a>0:\n",
    "        c=a%10\n",
    "        a=int(a/10)\n",
    "        b=b+c**l\n",
    "        l=l-1\n",
    "    return b\n",
    "\n",
    "if dis(n)==a:\n",
    "    print(\"It is Disarium number\")\n",
    "else:\n",
    "    print(\"It is not Disarium number\")\n"
   ]
  },
  {
   "cell_type": "code",
   "execution_count": 39,
   "id": "1016250a",
   "metadata": {},
   "outputs": [
    {
     "name": "stdout",
     "output_type": "stream",
     "text": [
      "Disarium Numbers are :\n",
      "1\n",
      "2\n",
      "3\n",
      "4\n",
      "5\n",
      "6\n",
      "7\n",
      "8\n",
      "9\n",
      "89\n",
      "135\n",
      "175\n",
      "518\n",
      "598\n"
     ]
    }
   ],
   "source": [
    "#2\n",
    "print(\"Disarium Numbers are :\")\n",
    "for i in range(1,1000):\n",
    "    if dis(i)==i:\n",
    "        print(i)"
   ]
  },
  {
   "cell_type": "code",
   "execution_count": 63,
   "id": "476dbadd",
   "metadata": {},
   "outputs": [
    {
     "name": "stdout",
     "output_type": "stream",
     "text": [
      "Enter the number20\n",
      "20 is not a Happy number\n"
     ]
    }
   ],
   "source": [
    "#3\n",
    "def numSquareSum(n):\n",
    "    squareSum = 0;\n",
    "    while(n):\n",
    "        squareSum += (n % 10) * (n % 10);\n",
    "        n = int(n / 10);\n",
    "    return squareSum;\n",
    "\n",
    "def isHappynumber(n):\n",
    " \n",
    "    s = n;\n",
    "    f = n;\n",
    "    while(True):\n",
    "    \n",
    "        s = numSquareSum(s);\n",
    "        f = numSquareSum(numSquareSum(f));\n",
    "        if(s!= f):\n",
    "            continue;\n",
    "        else:\n",
    "            break;\n",
    "\n",
    "    return (s == 1);\n",
    " \n",
    "\n",
    "n = int(input(\"Enter the number\"));\n",
    "if isHappynumber(n):\n",
    "    print(n , \"is a Happy number\");\n",
    "else:\n",
    "    print(n , \"is not a Happy number\");"
   ]
  },
  {
   "cell_type": "code",
   "execution_count": 64,
   "id": "a7859dd5",
   "metadata": {},
   "outputs": [
    {
     "name": "stdout",
     "output_type": "stream",
     "text": [
      "All happy numbers between 1 to 100 are\n",
      "1\n",
      "7\n",
      "10\n",
      "13\n",
      "19\n",
      "23\n",
      "28\n",
      "31\n",
      "32\n",
      "44\n",
      "49\n",
      "68\n",
      "70\n",
      "79\n",
      "82\n",
      "86\n",
      "91\n",
      "94\n",
      "97\n"
     ]
    }
   ],
   "source": [
    "#4\n",
    "print(\"All happy numbers between 1 to 100 are\")\n",
    "for i in range(1,100):\n",
    "    if isHappynumber(i):\n",
    "        print(i)"
   ]
  },
  {
   "cell_type": "code",
   "execution_count": 78,
   "id": "a50e910e",
   "metadata": {},
   "outputs": [
    {
     "name": "stdout",
     "output_type": "stream",
     "text": [
      "enter the number14\n",
      "It is not an harshad number\n"
     ]
    }
   ],
   "source": [
    "#5\n",
    "\n",
    "def harshad(n):\n",
    "    a1=n\n",
    "    b=0\n",
    "    while n>0:\n",
    "        c=n%10\n",
    "        n=int(n/10)\n",
    "        b=b+c\n",
    "    return b\n",
    "    \n",
    "\n",
    "a=int(input(\"enter the number\"))\n",
    "if a%harshad(a)==0:\n",
    "    print(\"It is a harshad number\")\n",
    "else:\n",
    "    print(\"It is not an harshad number\")\n",
    "\n",
    "        \n",
    "            "
   ]
  },
  {
   "cell_type": "code",
   "execution_count": 79,
   "id": "8ff4ad23",
   "metadata": {},
   "outputs": [
    {
     "name": "stdout",
     "output_type": "stream",
     "text": [
      "Harshad numbers from 1 to 100\n",
      "1\n",
      "2\n",
      "3\n",
      "4\n",
      "5\n",
      "6\n",
      "7\n",
      "8\n",
      "9\n",
      "10\n",
      "12\n",
      "18\n",
      "20\n",
      "21\n",
      "24\n",
      "27\n",
      "30\n",
      "36\n",
      "40\n",
      "42\n",
      "45\n",
      "48\n",
      "50\n",
      "54\n",
      "60\n",
      "63\n",
      "70\n",
      "72\n",
      "80\n",
      "81\n",
      "84\n",
      "90\n"
     ]
    }
   ],
   "source": [
    "#6\n",
    "\n",
    "print(\"Harshad numbers from 1 to 100\")\n",
    "\n",
    "for i in range(1,100):\n",
    "    if i%harshad(i)==0:\n",
    "        print(i)"
   ]
  },
  {
   "cell_type": "code",
   "execution_count": null,
   "id": "f309ca21",
   "metadata": {},
   "outputs": [],
   "source": []
  }
 ],
 "metadata": {
  "kernelspec": {
   "display_name": "Python 3 (ipykernel)",
   "language": "python",
   "name": "python3"
  },
  "language_info": {
   "codemirror_mode": {
    "name": "ipython",
    "version": 3
   },
   "file_extension": ".py",
   "mimetype": "text/x-python",
   "name": "python",
   "nbconvert_exporter": "python",
   "pygments_lexer": "ipython3",
   "version": "3.9.7"
  }
 },
 "nbformat": 4,
 "nbformat_minor": 5
}
