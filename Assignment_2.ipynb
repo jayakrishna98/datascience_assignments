{
 "cells": [
  {
   "cell_type": "code",
   "execution_count": 9,
   "id": "800aa9f8",
   "metadata": {},
   "outputs": [
    {
     "name": "stdout",
     "output_type": "stream",
     "text": [
      "Enter the kilometer value67\n",
      "Value in miles is 41.631789999999995\n"
     ]
    }
   ],
   "source": [
    "a=float(input(\"Enter the kilometer value\"))\n",
    "print(\"Value in miles is\",0.62137*a)"
   ]
  },
  {
   "cell_type": "code",
   "execution_count": 12,
   "id": "87f551d8",
   "metadata": {},
   "outputs": [
    {
     "name": "stdout",
     "output_type": "stream",
     "text": [
      "Enter the kilometer value41\n",
      "Value in miles is 105.8\n"
     ]
    }
   ],
   "source": [
    "a=float(input(\"Enter the kilometer value\"))\n",
    "b=lambda a:(a*9/5)+32\n",
    "print(\"Value in miles is\",b(a))"
   ]
  },
  {
   "cell_type": "code",
   "execution_count": 29,
   "id": "e862dbd7",
   "metadata": {},
   "outputs": [
    {
     "name": "stdout",
     "output_type": "stream",
     "text": [
      "Enter the year 1998\n",
      "Enter the month 10\n",
      "Calender for the selected month and year is \n",
      "     October 1998\n",
      "Mo Tu We Th Fr Sa Su\n",
      "          1  2  3  4\n",
      " 5  6  7  8  9 10 11\n",
      "12 13 14 15 16 17 18\n",
      "19 20 21 22 23 24 25\n",
      "26 27 28 29 30 31\n",
      "\n"
     ]
    }
   ],
   "source": [
    "import calendar\n",
    "\n",
    "y=int(input(\"Enter the year \"))\n",
    "m=int(input(\"Enter the month \"))\n",
    "\n",
    "print(\"Calender for the selected month and year is \\n\",calendar.month(y,m))"
   ]
  },
  {
   "cell_type": "code",
   "execution_count": 43,
   "id": "9cdc3313",
   "metadata": {},
   "outputs": [
    {
     "name": "stdout",
     "output_type": "stream",
     "text": [
      "The format for a qudratic equation is - ax^2 + bx + c = 0\n",
      "Enter the values of a 1\n",
      "Enter the values b 8\n",
      "Enter the values c 16\n",
      "The solution are (-4+0j) and (-4+0j)\n"
     ]
    }
   ],
   "source": [
    "import cmath\n",
    "\n",
    "print(\"The format for a qudratic equation is - ax^2 + bx + c = 0\")\n",
    "\n",
    "a = int(input(\"Enter the values of a \"))\n",
    "b = int(input(\"Enter the values b \"))\n",
    "c = int(input(\"Enter the values c \"))\n",
    "\n",
    "# calculate the discriminant\n",
    "d = (b**2) - (4*a*c)\n",
    "\n",
    "# find two solutions\n",
    "sol1 = (-b-cmath.sqrt(d))/(2*a)\n",
    "sol2 = (-b+cmath.sqrt(d))/(2*a)\n",
    "\n",
    "print('The solution are {0} and {1}'.format(sol1,sol2))"
   ]
  },
  {
   "cell_type": "code",
   "execution_count": 46,
   "id": "a1d6ba03",
   "metadata": {},
   "outputs": [
    {
     "name": "stdout",
     "output_type": "stream",
     "text": [
      "Enter the first value 4\n",
      "Enter the second value 5\n",
      "Swapped values first variable is 5 and second variable is 4\n"
     ]
    }
   ],
   "source": [
    "a=int(input(\"Enter the first value \"))\n",
    "b=int(input(\"Enter the second value \"))\n",
    "\n",
    "a=a+b\n",
    "b=a-b\n",
    "a=a-b\n",
    "\n",
    "print(\"Swapped values first variable is {} and second variable is {}\".format(a,b))"
   ]
  },
  {
   "cell_type": "code",
   "execution_count": null,
   "id": "50bcafd3",
   "metadata": {},
   "outputs": [],
   "source": []
  }
 ],
 "metadata": {
  "kernelspec": {
   "display_name": "Python 3 (ipykernel)",
   "language": "python",
   "name": "python3"
  },
  "language_info": {
   "codemirror_mode": {
    "name": "ipython",
    "version": 3
   },
   "file_extension": ".py",
   "mimetype": "text/x-python",
   "name": "python",
   "nbconvert_exporter": "python",
   "pygments_lexer": "ipython3",
   "version": "3.9.7"
  }
 },
 "nbformat": 4,
 "nbformat_minor": 5
}
