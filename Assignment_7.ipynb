{
 "cells": [
  {
   "cell_type": "code",
   "execution_count": 40,
   "id": "661c6654",
   "metadata": {},
   "outputs": [
    {
     "name": "stdout",
     "output_type": "stream",
     "text": [
      "Enter number of elements : 4\n",
      "Enter the elements : \n",
      "999\n",
      "898\n",
      "897977\n",
      "8797\n",
      "[999, 898, 897977, 8797]\n",
      "The Array [999, 898, 897977, 8797]\n",
      "Sum of the array is  908671\n"
     ]
    }
   ],
   "source": [
    "def arr_input():\n",
    "    \n",
    "    lst = []\n",
    "    n = int(input(\"Enter number of elements : \"))\n",
    "    print(\"Enter the elements : \")\n",
    "\n",
    "    for i in range(0, n):\n",
    "        a = int(input())\n",
    "        lst.append(a) \n",
    "    print(lst)\n",
    "    return lst\n",
    "\n",
    "l=arr_input()\n",
    "\n",
    "sum=0\n",
    "for i in l:\n",
    "    sum=sum+i\n",
    "    \n",
    "print(\"The Array\",l)          \n",
    "print('Sum of the array is ', sum)"
   ]
  },
  {
   "cell_type": "code",
   "execution_count": 27,
   "id": "b672a63c",
   "metadata": {},
   "outputs": [
    {
     "name": "stdout",
     "output_type": "stream",
     "text": [
      "Enter number of elements : 5\n",
      "Enter the elements : \n",
      "4\n",
      "5\n",
      "6\n",
      "7\n",
      "8\n",
      "[4, 5, 6, 7, 8]\n",
      "Largest element in the array is  8\n"
     ]
    }
   ],
   "source": [
    "a=arr_input() \n",
    "print(a)\n",
    "\n",
    "print(\"Largest element in the array is \",max(a))\n"
   ]
  },
  {
   "cell_type": "code",
   "execution_count": 78,
   "id": "6a7f869e",
   "metadata": {},
   "outputs": [
    {
     "name": "stdout",
     "output_type": "stream",
     "text": [
      "Enter number of elements : 6\n",
      "Enter the elements : \n",
      "2\n",
      "3\n",
      "4\n",
      "5\n",
      "6\n",
      "7\n",
      "[2, 3, 4, 5, 6, 7]\n",
      "Array after rotation is:  [7, 6, 5, 4, 3, 2]\n"
     ]
    }
   ],
   "source": [
    "def rotateArray(arr, n):\n",
    "    temp = []\n",
    "    while (n>0):\n",
    "        temp.append(arr[n-1])\n",
    "        n = n - 1\n",
    "    \n",
    "    return temp\n",
    "\n",
    "arr = arr_input()\n",
    "print(\"Array after rotation is: \", end=' ')\n",
    "print(rotateArray(arr, len(arr)))"
   ]
  },
  {
   "cell_type": "code",
   "execution_count": 83,
   "id": "c89f1714",
   "metadata": {},
   "outputs": [
    {
     "name": "stdout",
     "output_type": "stream",
     "text": [
      "Enter number of elements : 5\n",
      "Enter the elements : \n",
      "2\n",
      "3\n",
      "4\n",
      "5\n",
      "6\n",
      "[2, 3, 4, 5, 6]\n",
      "Values after spliting the array and adding the first part to the end is  [4, 5, 6, 2, 3]\n"
     ]
    }
   ],
   "source": [
    "\n",
    "\n",
    "def splitArr(arr, n, k): \n",
    "    for i in range(0, k): \n",
    "        x = arr[0]\n",
    "        for j in range(0, n-1):\n",
    "            arr[j] = arr[j + 1]\n",
    "          \n",
    "        arr[n-1] = x\n",
    "          \n",
    "arr = arr_input()\n",
    "n = len(arr)\n",
    "position = int(n/2)\n",
    "  \n",
    "splitArr(arr, n, position)\n",
    "  \n",
    "temp=[]\n",
    "for i in range(0, n): \n",
    "    temp.append(arr[i])\n",
    "    \n",
    "print(\"Values after spliting the array and adding the first part to the end is \",temp)"
   ]
  },
  {
   "cell_type": "code",
   "execution_count": 50,
   "id": "b8e922ce",
   "metadata": {},
   "outputs": [
    {
     "name": "stdout",
     "output_type": "stream",
     "text": [
      "Enter number of elements : 4\n",
      "Enter the elements : \n",
      "1\n",
      "3\n",
      "4\n",
      "5\n",
      "[1, 3, 4, 5]\n",
      "It is monotonic\n"
     ]
    }
   ],
   "source": [
    "def isMonotonic(A):\n",
    "  \n",
    "    return (all(A[i] <= A[i + 1] for i in range(len(A) - 1)) or\n",
    "            all(A[i] >= A[i + 1] for i in range(len(A) - 1)))\n",
    "  \n",
    "\n",
    "A = arr_input()\n",
    "  \n",
    "if isMonotonic(A)==True:\n",
    "    print(\"It is monotonic\")\n",
    "    \n",
    "else:\n",
    "    print(\"It is NOT monotonic\")"
   ]
  }
 ],
 "metadata": {
  "kernelspec": {
   "display_name": "Python 3 (ipykernel)",
   "language": "python",
   "name": "python3"
  },
  "language_info": {
   "codemirror_mode": {
    "name": "ipython",
    "version": 3
   },
   "file_extension": ".py",
   "mimetype": "text/x-python",
   "name": "python",
   "nbconvert_exporter": "python",
   "pygments_lexer": "ipython3",
   "version": "3.9.7"
  }
 },
 "nbformat": 4,
 "nbformat_minor": 5
}
