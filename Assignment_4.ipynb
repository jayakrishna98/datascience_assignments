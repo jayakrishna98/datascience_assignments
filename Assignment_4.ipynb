{
 "cells": [
  {
   "cell_type": "code",
   "execution_count": 18,
   "id": "55b463b7",
   "metadata": {},
   "outputs": [
    {
     "name": "stdout",
     "output_type": "stream",
     "text": [
      "Enter a number 5\n",
      "Factorial of 5 is 120\n"
     ]
    }
   ],
   "source": [
    "def fact(n):\n",
    "    if n==0 or n==1:\n",
    "        return 1\n",
    "    else:\n",
    "        return n*fact(n-1)\n",
    "    \n",
    "a=int(input(\"Enter a number \"))\n",
    "print(\"Factorial of {} is\".format(a),fact(a))"
   ]
  },
  {
   "cell_type": "code",
   "execution_count": 20,
   "id": "3382ee0d",
   "metadata": {},
   "outputs": [
    {
     "name": "stdout",
     "output_type": "stream",
     "text": [
      "Enter the number 12\n",
      "\n",
      "Multiplication table for 12 is\n",
      "12 x 1 = 12\n",
      "12 x 2 = 24\n",
      "12 x 3 = 36\n",
      "12 x 4 = 48\n",
      "12 x 5 = 60\n",
      "12 x 6 = 72\n",
      "12 x 7 = 84\n",
      "12 x 8 = 96\n",
      "12 x 9 = 108\n",
      "12 x 10 = 120\n"
     ]
    }
   ],
   "source": [
    "num = int(input(\"Enter the number \"))\n",
    "\n",
    "print(\"\\nMultiplication table for {} is\".format(num))\n",
    "for i in range(1, 11):\n",
    "    print(num, \"x\", i, \"=\", num*i)"
   ]
  },
  {
   "cell_type": "code",
   "execution_count": 29,
   "id": "271f57a0",
   "metadata": {},
   "outputs": [
    {
     "name": "stdout",
     "output_type": "stream",
     "text": [
      "Enter the number 20\n",
      "Fibonacci series for 20 is\n",
      "0 1 1 2 3 5 8 13 21 34 55 89 144 233 377 610 987 1597 2584 4181 "
     ]
    }
   ],
   "source": [
    "num = int(input(\"Enter the number \"))\n",
    "\n",
    "a=0\n",
    "b=1\n",
    "\n",
    "print(\"Fibonacci series for {} is\".format(num))\n",
    "print(a,b,end=\" \")\n",
    "for i in range(2,num):\n",
    "    c=a+b\n",
    "    print(c,end=\" \")\n",
    "    a=b\n",
    "    b=c\n",
    "    \n",
    "    "
   ]
  },
  {
   "cell_type": "code",
   "execution_count": 82,
   "id": "b6d4452d",
   "metadata": {},
   "outputs": [
    {
     "name": "stdout",
     "output_type": "stream",
     "text": [
      "Enter the number 45\n",
      "45 is NOT an armstrong number\n"
     ]
    }
   ],
   "source": [
    "\n",
    "\n",
    "def arm(num):\n",
    "    num1=num\n",
    "    a=0\n",
    "    order=len(str(num))\n",
    "    while num1>0:\n",
    "        q=num1%10  \n",
    "        a=a+q**order\n",
    "        num1=num1/10\n",
    "        num1=int(num1)\n",
    "\n",
    "    if(a==num):\n",
    "        return True\n",
    "\n",
    "    else:\n",
    "        return False\n",
    "    \n",
    "num = int(input(\"Enter the number \"))\n",
    "if arm(num)==True:\n",
    "    print(\"{} is an armstrong number\".format(num))\n",
    "    \n",
    "else:\n",
    "    print(\"{} is NOT an armstrong number\".format(num))\n",
    "    "
   ]
  },
  {
   "cell_type": "code",
   "execution_count": 92,
   "id": "27391abd",
   "metadata": {},
   "outputs": [
    {
     "name": "stdout",
     "output_type": "stream",
     "text": [
      "Enter the starting number 1\n",
      "Enter the ending number 999\n",
      "All the Armstrong numbers between 1 and 999 are\n",
      "1\n",
      "2\n",
      "3\n",
      "4\n",
      "5\n",
      "6\n",
      "7\n",
      "8\n",
      "9\n",
      "153\n",
      "370\n",
      "371\n",
      "407\n"
     ]
    }
   ],
   "source": [
    "a=int(input(\"Enter the starting number \"))\n",
    "b=int(input(\"Enter the ending number \"))\n",
    "\n",
    "\n",
    "if a<b:\n",
    "    print(\"All the Armstrong numbers between {} and {} are\".format(a,b))\n",
    "    for i in range(a,b):\n",
    "        if(arm(i)==True):\n",
    "            print(i)\n",
    "else:\n",
    "    print(\"First value should be less than the second value\")"
   ]
  },
  {
   "cell_type": "code",
   "execution_count": 100,
   "id": "0a55a8ed",
   "metadata": {},
   "outputs": [
    {
     "name": "stdout",
     "output_type": "stream",
     "text": [
      "Enter the numnber 100\n",
      "Sum of all the natural numbers till 100 is 5050.0\n"
     ]
    }
   ],
   "source": [
    "a=int(input(\"Enter the numnber \"))\n",
    "\n",
    "print(\"Sum of all the natural numbers till {} is\".format(a),a*(a+1)/2)"
   ]
  },
  {
   "cell_type": "code",
   "execution_count": null,
   "id": "f146d198",
   "metadata": {},
   "outputs": [],
   "source": []
  }
 ],
 "metadata": {
  "kernelspec": {
   "display_name": "Python 3 (ipykernel)",
   "language": "python",
   "name": "python3"
  },
  "language_info": {
   "codemirror_mode": {
    "name": "ipython",
    "version": 3
   },
   "file_extension": ".py",
   "mimetype": "text/x-python",
   "name": "python",
   "nbconvert_exporter": "python",
   "pygments_lexer": "ipython3",
   "version": "3.9.7"
  }
 },
 "nbformat": 4,
 "nbformat_minor": 5
}
